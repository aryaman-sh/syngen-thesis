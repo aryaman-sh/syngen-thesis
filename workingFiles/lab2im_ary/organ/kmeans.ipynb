{
 "cells": [
  {
   "cell_type": "markdown",
   "metadata": {},
   "source": [
    "This is the notebook used to perform kmeans on organ data to generate label like images for lab2im generation"
   ]
  },
  {
   "cell_type": "code",
   "execution_count": 26,
   "metadata": {},
   "outputs": [
    {
     "name": "stderr",
     "output_type": "stream",
     "text": [
      "/home/ary/miniconda3/envs/main/lib/python3.10/site-packages/sklearn/cluster/_kmeans.py:870: FutureWarning: The default value of `n_init` will change from 10 to 'auto' in 1.4. Set the value of `n_init` explicitly to suppress the warning\n",
      "  warnings.warn(\n"
     ]
    },
    {
     "name": "stdout",
     "output_type": "stream",
     "text": [
      "[  0.   2.   6.  11.  16.  22.  28.  34.  40.  47.  55.  61.  68.  74.\n",
      "  80.  86.  92.  99. 106. 113. 120. 127. 134. 146. 165. 191. 226. 264.\n",
      " 338. 512.]\n",
      "92.0\n"
     ]
    }
   ],
   "source": [
    "import nibabel as nib\n",
    "import numpy as np \n",
    "from sklearn.cluster import KMeans\n",
    "\n",
    "def main():\n",
    "    scan = nib.load('/home/ary/syntheticdata/datasets/2023-08-22-aryaman/images/sub-10010.FatImaging_W.nii.gz')\n",
    "    segmentation_mask = nib.load('/home/ary/syntheticdata/datasets/2023-08-22-aryaman/labels/sub-10010.FatImaging_W.nii.gz')\n",
    "\n",
    "    # get the data \n",
    "    mri_data = scan.get_fdata()\n",
    "    mask_data = segmentation_mask.get_fdata()\n",
    "\n",
    "    # get anomaly indices\n",
    "    anomaly_indices = np.where(mask_data == 1)\n",
    "\n",
    "    anomaly_values = mri_data[anomaly_indices]\n",
    "    average_value = np.mean(anomaly_values)\n",
    "\n",
    "    mri_data[anomaly_indices] = average_value\n",
    "\n",
    "    modified_scan = nib.Nifti1Image(mri_data, scan.affine)\n",
    "\n",
    "    mri_data = modified_scan.get_fdata()\n",
    "    mri_data_flattened = mri_data.reshape(-1, 1)\n",
    "\n",
    "    # Define the number of clusters for k-means\n",
    "    n_clusters = 30  # Adjust as needed\n",
    "\n",
    "    # Initialize the KMeans model\n",
    "    kmeans = KMeans(n_clusters=n_clusters, random_state=0)\n",
    "\n",
    "    # Fit the model to the flattened data\n",
    "    kmeans.fit(mri_data_flattened)\n",
    "\n",
    "    # Get cluster labels for each pixel in the flattened data\n",
    "    cluster_labels = kmeans.labels_\n",
    "\n",
    "    # Calculate the average pixel value for each cluster\n",
    "    cluster_average_values = [np.mean(mri_data_flattened[cluster_labels == i]) for i in range(n_clusters)]\n",
    "\n",
    "    # Assign cluster average values to all pixels in the cluster\n",
    "    for i in range(n_clusters):\n",
    "        cluster_value = cluster_average_values[i]\n",
    "        mri_data_flattened[cluster_labels == i] = cluster_value\n",
    "\n",
    "    # Reshape the modified flattened data back to the original shape\n",
    "    modified_mri_data = mri_data_flattened.reshape(mri_data.shape)\n",
    "\n",
    "    # Create a new NIfTI image with the modified data\n",
    "    modified_scan = nib.Nifti1Image(modified_mri_data, scan.affine)\n",
    "    scaled_array = (modified_mri_data - modified_mri_data.min()) / (modified_mri_data.max() - modified_mri_data.min()) * 512\n",
    "    scaled_array = np.round(scaled_array)\n",
    "    print(np.unique(scaled_array))\n",
    "\n",
    "    modified_scan = nib.Nifti1Image(scaled_array, scan.affine)\n",
    "\n",
    "    # Save the modified scan as a new file (e.g., 'modified_mri_scan.nii.gz')\n",
    "    nib.save(modified_scan, 'threshold_data_20_512.nii.gz')\n",
    "\n",
    "    mri_data = modified_scan.get_fdata()\n",
    "    mask_data = segmentation_mask.get_fdata()\n",
    "    anomaly_indices = np.where(mask_data == 1)\n",
    "\n",
    "    anomaly_values = mri_data[anomaly_indices]\n",
    "    average_value = np.mean(anomaly_values)\n",
    "    print(average_value) ## anomaly threshold value\n",
    "\n",
    "    return scaled_array\n",
    "\n",
    "scaled_array = main()\n"
   ]
  },
  {
   "cell_type": "code",
   "execution_count": 25,
   "metadata": {},
   "outputs": [
    {
     "name": "stdout",
     "output_type": "stream",
     "text": [
      "92.0\n"
     ]
    }
   ],
   "source": [
    "scan = nib.load('threshold_data_20_512.nii.gz')\n",
    "segmentation_mask = nib.load('/home/ary/syntheticdata/datasets/2023-08-22-aryaman/labels/sub-10010.FatImaging_W.nii.gz')\n",
    "\n",
    "# get the data \n",
    "mri_data = scan.get_fdata()\n",
    "mask_data = segmentation_mask.get_fdata()\n",
    "\n",
    "# get anomaly indices\n",
    "anomaly_indices = np.where(mask_data == 1)\n",
    "\n",
    "anomaly_values = mri_data[anomaly_indices]\n",
    "average_value = np.mean(anomaly_values)\n",
    "print(average_value)"
   ]
  },
  {
   "cell_type": "markdown",
   "metadata": {},
   "source": [
    "Scalings to produce ary:\n"
   ]
  },
  {
   "cell_type": "code",
   "execution_count": 18,
   "metadata": {},
   "outputs": [],
   "source": [
    "gen_images_paths = ['/home/ary/syntheticdata/datasets/2023-08-22-aryaman/images/sub-10010.FatImaging_W.nii.gz', '/home/ary/syntheticdata/datasets/2023-08-22-aryaman/images/sub-10020.FatImaging_W.nii.gz', '/home/ary/syntheticdata/datasets/2023-08-22-aryaman/images/sub-10050.FatImaging_W.nii.gz', '/home/ary/syntheticdata/datasets/2023-08-22-aryaman/images/sub-10100.FatImaging_W.nii.gz', '/home/ary/syntheticdata/datasets/2023-08-22-aryaman/images/sub-10150.FatImaging_W.nii.gz']\n",
    "gen_labels_paths = ['/home/ary/syntheticdata/datasets/2023-08-22-aryaman/labels/sub-10010.FatImaging_W.nii.gz', '/home/ary/syntheticdata/datasets/2023-08-22-aryaman/labels/sub-10020.FatImaging_W.nii.gz', '/home/ary/syntheticdata/datasets/2023-08-22-aryaman/labels/sub-10050.FatImaging_W.nii.gz', '/home/ary/syntheticdata/datasets/2023-08-22-aryaman/labels/sub-10100.FatImaging_W.nii.gz', '/home/ary/syntheticdata/datasets/2023-08-22-aryaman/labels/sub-10150.FatImaging_W.nii.gz']\n",
    "\n"
   ]
  },
  {
   "cell_type": "code",
   "execution_count": 11,
   "metadata": {},
   "outputs": [],
   "source": [
    "import matplotlib.pyplot as plt"
   ]
  },
  {
   "cell_type": "code",
   "execution_count": 78,
   "metadata": {},
   "outputs": [
    {
     "name": "stderr",
     "output_type": "stream",
     "text": [
      "/home/ary/miniconda3/envs/main/lib/python3.10/site-packages/sklearn/cluster/_kmeans.py:870: FutureWarning: The default value of `n_init` will change from 10 to 'auto' in 1.4. Set the value of `n_init` explicitly to suppress the warning\n",
      "  warnings.warn(\n"
     ]
    },
    {
     "data": {
      "text/plain": [
       "\"\\n\\nmodified_scan = nib.Nifti1Image(scaled_array, scan.affine)\\n\\n# Save the modified scan as a new file (e.g., 'modified_mri_scan.nii.gz')\\nnib.save(modified_scan, 'threshold_data_20_512.nii.gz')\\n\\nmri_data = modified_scan.get_fdata()\\nmask_data = segmentation_mask.get_fdata()\\nanomaly_indices = np.where(mask_data == 1)\\n\\nanomaly_values = mri_data[anomaly_indices]\\naverage_value = np.mean(anomaly_values)\\nprint(average_value) ## anomaly threshold value\\n\""
      ]
     },
     "execution_count": 78,
     "metadata": {},
     "output_type": "execute_result"
    }
   ],
   "source": [
    "from sklearn.cluster import DBSCAN\n",
    "import nibabel as nib\n",
    "import numpy as np \n",
    "from sklearn.cluster import KMeans\n",
    "import matplotlib.pyplot as plt\n",
    "# My clustering algorithms\n",
    "\n",
    "SCAN_PATH = '/home/ary/syntheticdata/datasets/2023-08-22-aryaman/images/sub-10010.FatImaging_W.nii.gz'\n",
    "SEG_PATH = '/home/ary/syntheticdata/datasets/2023-08-22-aryaman/labels/sub-10010.FatImaging_W.nii.gz'\n",
    "CLUSTER_TYPE = 'KMEANS' # ['DBSCAN' or 'KMEANS']\n",
    "SCALING_FACTOR = 1024\n",
    "CLUSTERS = 20\n",
    "SCALING = False\n",
    "OUTPUT_NAME = 'output.nii.gz'\n",
    "\n",
    "# load scans\n",
    "scan = nib.load(SCAN_PATH)\n",
    "segmentation_mask = nib.load(SEG_PATH)\n",
    "\n",
    "# get the data \n",
    "mri_data = scan.get_fdata()\n",
    "mask_data = segmentation_mask.get_fdata()\n",
    "\n",
    "# get anomaly indices and set all anomaly location to the mean\n",
    "anomaly_indices = np.where(mask_data == 1)\n",
    "anomaly_values = mri_data[anomaly_indices]\n",
    "average_value = np.mean(anomaly_values)\n",
    "mri_data[anomaly_indices] = average_value\n",
    "\n",
    "\n",
    "# New scan where anomaly is just the anomaly values\n",
    "mri_data_flattened = mri_data.reshape(-1, 1)\n",
    "\n",
    "# CLUSTERING\n",
    "if CLUSTER_TYPE=='KMEANS':\n",
    "    # Define the number of clusters for k-means\n",
    "    n_clusters = CLUSTERS  # Adjust as needed\n",
    "    # Initialize the KMeans model\n",
    "    kmeans = KMeans(n_clusters=n_clusters, random_state=0)\n",
    "    # Fit the model to the flattened data\n",
    "    kmeans.fit(mri_data_flattened)\n",
    "    # Get cluster labels for each pixel in the flattened data\n",
    "    cluster_labels = kmeans.labels_\n",
    "elif CLUSTER_TYPE=='DBSCAN':\n",
    "    dbscan = DBSCAN(eps=0.5, min_samples=5)\n",
    "    dbscan.fit(mri_data_flattened)\n",
    "    cluster_labels = dbscan.labels_\n",
    "\n",
    "# Now have k+1 clusters, one uniquely for the seg map, fixes the problem of having anomaly everywhere\n",
    "clr = cluster_labels.reshape(mri_data.shape)\n",
    "clr[anomaly_indices] = n_clusters\n",
    "clr = clr.reshape(-1,1)\n",
    "\n",
    "# Calculate the average pixel value for each cluster\n",
    "cluster_average_values = [np.mean(mri_data_flattened[clr == i]) for i in range(n_clusters+1)]\n",
    "\n",
    "# Assign cluster average values to all pixels in the cluster\n",
    "for i in range(n_clusters+1):\n",
    "    cluster_value = cluster_average_values[i]\n",
    "    mri_data_flattened[clr == i] = cluster_value\n",
    "\n",
    "# Reshape the modified flattened data back to the original shape\n",
    "modified_mri_data = mri_data_flattened.reshape(mri_data.shape)\n",
    "if SCALING:\n",
    "    scaled_array = (modified_mri_data - modified_mri_data.min()) / (modified_mri_data.max() - modified_mri_data.min()) * SCALING_FACTOR\n",
    "    modified_mri_data = np.round(scaled_array)\n",
    "\n",
    "modified_scan = nib.Nifti1Image(modified_mri_data, scan.affine)\n",
    "nib.save(modified_scan, OUTPUT_NAME)\n",
    "\n",
    "'''\n",
    "\n",
    "modified_scan = nib.Nifti1Image(scaled_array, scan.affine)\n",
    "\n",
    "# Save the modified scan as a new file (e.g., 'modified_mri_scan.nii.gz')\n",
    "nib.save(modified_scan, 'threshold_data_20_512.nii.gz')\n",
    "\n",
    "mri_data = modified_scan.get_fdata()\n",
    "mask_data = segmentation_mask.get_fdata()\n",
    "anomaly_indices = np.where(mask_data == 1)\n",
    "\n",
    "anomaly_values = mri_data[anomaly_indices]\n",
    "average_value = np.mean(anomaly_values)\n",
    "print(average_value) ## anomaly threshold value\n",
    "'''"
   ]
  },
  {
   "cell_type": "code",
   "execution_count": 80,
   "metadata": {},
   "outputs": [
    {
     "data": {
      "text/plain": [
       "21"
      ]
     },
     "execution_count": 80,
     "metadata": {},
     "output_type": "execute_result"
    }
   ],
   "source": [
    "len(np.unique(modified_mri_data))"
   ]
  },
  {
   "cell_type": "code",
   "execution_count": 52,
   "metadata": {},
   "outputs": [],
   "source": [
    "mri_data_flattened = mri_data_flattened.reshape(mri_data.shape)"
   ]
  },
  {
   "cell_type": "code",
   "execution_count": 62,
   "metadata": {},
   "outputs": [],
   "source": [
    "clr = clr.reshape(mri_data.shape)"
   ]
  },
  {
   "cell_type": "code",
   "execution_count": 59,
   "metadata": {},
   "outputs": [
    {
     "data": {
      "text/plain": [
       "array([-0.46024506,  1.14949051,  1.94281855,  2.63875888])"
      ]
     },
     "execution_count": 59,
     "metadata": {},
     "output_type": "execute_result"
    }
   ],
   "source": [
    "np.unique(mri_data_flattened[160])"
   ]
  },
  {
   "cell_type": "code",
   "execution_count": 68,
   "metadata": {},
   "outputs": [],
   "source": [
    "mri_data_flattened[clr == 3] = 1\n",
    "mri_data_flattened[clr != 3] = 0"
   ]
  },
  {
   "cell_type": "code",
   "execution_count": 74,
   "metadata": {},
   "outputs": [
    {
     "data": {
      "text/plain": [
       "<matplotlib.image.AxesImage at 0x7f5af163d8a0>"
      ]
     },
     "execution_count": 74,
     "metadata": {},
     "output_type": "execute_result"
    },
    {
     "data": {
      "image/png": "[encoded data removed]",
      "text/plain": [
       "<Figure size 640x480 with 1 Axes>"
      ]
     },
     "metadata": {},
     "output_type": "display_data"
    }
   ],
   "source": [
    "custom_cmap = plt.cm.colors.ListedColormap(['black', 'green', 'blue', 'red'])\n",
    "plt.imshow(mri_data_flattened[160], cmap='gray')"
   ]
  },
  {
   "cell_type": "code",
   "execution_count": 35,
   "metadata": {},
   "outputs": [
    {
     "data": {
      "text/plain": [
       "<matplotlib.image.AxesImage at 0x7f5af1e0c730>"
      ]
     },
     "execution_count": 35,
     "metadata": {},
     "output_type": "execute_result"
    },
    {
     "data": {
      "image/png": "[encoded data removed]",
      "text/plain": [
       "<Figure size 640x480 with 1 Axes>"
      ]
     },
     "metadata": {},
     "output_type": "display_data"
    }
   ],
   "source": [
    "plt.imshow(mask_data[220])"
   ]
  },
  {
   "cell_type": "code",
   "execution_count": 29,
   "metadata": {},
   "outputs": [],
   "source": [
    "modified_scan = nib.Nifti1Image(scaled_array, scan.affine)\n",
    "\n",
    "# Save the modified scan as a new file (e.g., 'modified_mri_scan.nii.gz')\n",
    "nib.save(modified_scan, 'threshold_data_20_512_2.nii.gz')\n"
   ]
  },
  {
   "cell_type": "code",
   "execution_count": 16,
   "metadata": {},
   "outputs": [
    {
     "data": {
      "text/plain": [
       "array([0, 1, 2], dtype=int32)"
      ]
     },
     "execution_count": 16,
     "metadata": {},
     "output_type": "execute_result"
    }
   ],
   "source": [
    "np.unique(clr)"
   ]
  }
 ],
 "metadata": {
  "kernelspec": {
   "display_name": "main",
   "language": "python",
   "name": "python3"
  },
  "language_info": {
   "codemirror_mode": {
    "name": "ipython",
    "version": 3
   },
   "file_extension": ".py",
   "mimetype": "text/x-python",
   "name": "python",
   "nbconvert_exporter": "python",
   "pygments_lexer": "ipython3",
   "version": "3.10.9"
  }
 },
 "nbformat": 4,
 "nbformat_minor": 2
}
